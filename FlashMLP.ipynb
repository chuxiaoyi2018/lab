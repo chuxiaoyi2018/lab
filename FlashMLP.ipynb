{
 "cells": [
  {
   "cell_type": "code",
   "execution_count": 14,
   "id": "7bb8f233-23a4-4fff-8827-03656291dc3e",
   "metadata": {},
   "outputs": [
    {
     "ename": "ValueError",
     "evalue": "matmul: Input operand 1 has a mismatch in its core dimension 0, with gufunc signature (n?,k),(k,m?)->(n?,m?) (size 13696 is different from 64)",
     "output_type": "error",
     "traceback": [
      "\u001b[0;31m---------------------------------------------------------------------------\u001b[0m",
      "\u001b[0;31mValueError\u001b[0m                                Traceback (most recent call last)",
      "Cell \u001b[0;32mIn[14], line 39\u001b[0m\n\u001b[1;32m     34\u001b[0m     \u001b[38;5;28;01mreturn\u001b[39;00m np\u001b[38;5;241m.\u001b[39mmatmul(R_mul, B)\n\u001b[1;32m     36\u001b[0m \u001b[38;5;66;03m# expected = softmax_then_matmul(S, V)\u001b[39;00m\n\u001b[1;32m     37\u001b[0m \u001b[38;5;66;03m# actual = increasing_softmax_then_matmul(S, V)\u001b[39;00m\n\u001b[1;32m     38\u001b[0m \u001b[38;5;66;03m# np.allclose(expected, actual)\u001b[39;00m\n\u001b[0;32m---> 39\u001b[0m incre_res \u001b[38;5;241m=\u001b[39m \u001b[43mincreasing_matmul_active_matmul\u001b[49m\u001b[43m(\u001b[49m\u001b[43mX\u001b[49m\u001b[43m)\u001b[49m\n\u001b[1;32m     40\u001b[0m res \u001b[38;5;241m=\u001b[39m matmul_active_matmul(X)\n",
      "Cell \u001b[0;32mIn[14], line 21\u001b[0m, in \u001b[0;36mincreasing_matmul_active_matmul\u001b[0;34m(X, batch)\u001b[0m\n\u001b[1;32m     19\u001b[0m     batch_X_active \u001b[38;5;241m=\u001b[39m silu(batch_X_a)\n\u001b[1;32m     20\u001b[0m     batch_R_mul \u001b[38;5;241m=\u001b[39m batch_X_active \u001b[38;5;241m*\u001b[39m batch_Y_a\n\u001b[0;32m---> 21\u001b[0m     batch_res \u001b[38;5;241m=\u001b[39m \u001b[43mnp\u001b[49m\u001b[38;5;241;43m.\u001b[39;49m\u001b[43mmatmul\u001b[49m\u001b[43m(\u001b[49m\u001b[43mbatch_R_mul\u001b[49m\u001b[43m,\u001b[49m\u001b[43m \u001b[49m\u001b[43mB\u001b[49m\u001b[43m)\u001b[49m\n\u001b[1;32m     22\u001b[0m     \u001b[38;5;28;01mimport\u001b[39;00m \u001b[38;5;21;01mpdb\u001b[39;00m;pdb\u001b[38;5;241m.\u001b[39mset_trace()\n\u001b[1;32m     23\u001b[0m \u001b[38;5;28;01mreturn\u001b[39;00m acc\n",
      "\u001b[0;31mValueError\u001b[0m: matmul: Input operand 1 has a mismatch in its core dimension 0, with gufunc signature (n?,k),(k,m?)->(n?,m?) (size 13696 is different from 64)"
     ]
    }
   ],
   "source": [
    "import numpy as np\n",
    "\n",
    "Batch = 512\n",
    "N = 1\n",
    "d = 64\n",
    "\n",
    "X = np.random.random(size=(1, 1, 4096))\n",
    "A1 = np.random.random(size=(1, 4096, 13696))\n",
    "A2 = np.random.random(size=(1, 4096, 13696))\n",
    "B = np.random.random(size=(1, 13696, 4096))\n",
    "\n",
    "def increasing_matmul_active_matmul(X, batch=64):\n",
    "    last_dim = A1.shape[-1]\n",
    "    for i in range(0, last_dim, batch):\n",
    "        batch_A1 = A1[:, :, i:i+batch]\n",
    "        batch_A2 = A2[:, :, i:i+batch]\n",
    "        batch_X_a = np.matmul(X, batch_A1)\n",
    "        batch_Y_a = np.matmul(X, batch_A2)\n",
    "        batch_X_active = silu(batch_X_a)\n",
    "        batch_R_mul = batch_X_active * batch_Y_a\n",
    "\n",
    "        batch_B = B[:, i:i+batch, :]\n",
    "        batch_res = np.matmul(batch_R_mul, batch_B)\n",
    "        import pdb;pdb.set_trace()\n",
    "    return acc\n",
    "\n",
    "def silu(x):\n",
    "    return x / (1 + np.exp(-x))\n",
    "\n",
    "def matmul_active_matmul(X):\n",
    "    X_a = np.matmul(X, A1)\n",
    "    Y_a = np.matmul(X, A2)\n",
    "    X_active = silu(X_a)\n",
    "\n",
    "    R_mul = X_active * Y_a\n",
    "    return np.matmul(R_mul, B)\n",
    "\n",
    "# expected = softmax_then_matmul(S, V)\n",
    "# actual = increasing_softmax_then_matmul(S, V)\n",
    "# np.allclose(expected, actual)\n",
    "incre_res = increasing_matmul_active_matmul(X)\n",
    "res = matmul_active_matmul(X)"
   ]
  },
  {
   "cell_type": "code",
   "execution_count": 10,
   "id": "7f7e0bdd-f0d0-4877-8d7a-7f8407579754",
   "metadata": {},
   "outputs": [
    {
     "data": {
      "text/plain": [
       "(1, 1, 4096)"
      ]
     },
     "execution_count": 10,
     "metadata": {},
     "output_type": "execute_result"
    }
   ],
   "source": [
    "res.shape"
   ]
  },
  {
   "cell_type": "code",
   "execution_count": 3,
   "id": "40a07d01-6e7d-4828-b932-494a5a65b455",
   "metadata": {},
   "outputs": [],
   "source": [
    "import torch\n",
    "import torch.nn.functional as F\n",
    "\n",
    "x = torch.randn((12,197,197))"
   ]
  },
  {
   "cell_type": "code",
   "execution_count": null,
   "id": "8dc98598-433a-4505-a944-71837d3c2b50",
   "metadata": {},
   "outputs": [],
   "source": []
  },
  {
   "cell_type": "code",
   "execution_count": 2,
   "id": "9798ed20-63ce-48b4-b57e-f17fed90a6a7",
   "metadata": {},
   "outputs": [
    {
     "name": "stdout",
     "output_type": "stream",
     "text": [
      "CPU times: user 70 µs, sys: 120 µs, total: 190 µs\n",
      "Wall time: 150 µs\n"
     ]
    },
    {
     "data": {
      "text/plain": [
       "array([[0.69450367, 0.64144421]])"
      ]
     },
     "execution_count": 2,
     "metadata": {},
     "output_type": "execute_result"
    }
   ],
   "source": [
    "%time softmax_then_matmul(S, V)"
   ]
  },
  {
   "cell_type": "code",
   "execution_count": 3,
   "id": "b590266c-7525-4d6b-9472-884311d6a9a8",
   "metadata": {},
   "outputs": [
    {
     "name": "stdout",
     "output_type": "stream",
     "text": [
      "CPU times: user 86 µs, sys: 146 µs, total: 232 µs\n",
      "Wall time: 241 µs\n"
     ]
    },
    {
     "data": {
      "text/plain": [
       "array([[0.69450367, 0.64144421]])"
      ]
     },
     "execution_count": 3,
     "metadata": {},
     "output_type": "execute_result"
    }
   ],
   "source": [
    "%time increasing_softmax_then_matmul(S, V)"
   ]
  }
 ],
 "metadata": {
  "kernelspec": {
   "display_name": "Python 3 (ipykernel)",
   "language": "python",
   "name": "python3"
  },
  "language_info": {
   "codemirror_mode": {
    "name": "ipython",
    "version": 3
   },
   "file_extension": ".py",
   "mimetype": "text/x-python",
   "name": "python",
   "nbconvert_exporter": "python",
   "pygments_lexer": "ipython3",
   "version": "3.9.2"
  }
 },
 "nbformat": 4,
 "nbformat_minor": 5
}
