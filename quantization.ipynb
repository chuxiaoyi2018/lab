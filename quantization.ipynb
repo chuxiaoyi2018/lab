{
 "cells": [
  {
   "cell_type": "code",
   "execution_count": 3,
   "id": "e153acc6-da85-4a1d-8107-121b8e6af455",
   "metadata": {},
   "outputs": [],
   "source": [
    "# quantize\n",
    "# convert fp32 to int8\n",
    "# ref：https://wiki.sophgo.com/pages/viewpage.action?pageId=59598822\n",
    "\n",
    "import math\n",
    "import copy\n",
    "import numpy as np\n",
    "\n",
    "data = np.random.randn(224)\n",
    "fp32_data = copy.deepcopy(data)\n",
    "\n",
    "mode = \"int8\"\n",
    "\n",
    "if mode == \"int16\":\n",
    "    upper = 32767\n",
    "    lower = -32768\n",
    "if mode == \"int8\":\n",
    "    upper = 127-\n",
    "    lower = -128\n",
    "elif mode == \"int4\":\n",
    "    upper = 7\n",
    "    lower = -8\n",
    "\n",
    "threshold = 1\n",
    "\n",
    "inv_scale = upper / threshold\n",
    "\n",
    "for i, d in enumerate(data):\n",
    "    data[i] = math.floor(data[i] * inv_scale + 0.5)\n",
    "    data[i] = data[i] if data[i] < upper else upper\n",
    "    data[i] = data[i] if data[i] > lower else lower"
   ]
  },
  {
   "cell_type": "code",
   "execution_count": 21,
   "id": "2c3e040d-470d-4123-b5da-05e8e89421a4",
   "metadata": {},
   "outputs": [
    {
     "data": {
      "text/plain": [
       "(127.0, 127.0, -128.0)"
      ]
     },
     "execution_count": 21,
     "metadata": {},
     "output_type": "execute_result"
    }
   ],
   "source": [
    "inv_scale, max(data), min(data)"
   ]
  },
  {
   "cell_type": "code",
   "execution_count": 22,
   "id": "65bac693-f9e7-4671-9507-f83865625d40",
   "metadata": {},
   "outputs": [],
   "source": [
    "# dequantize\n",
    "# convert int8 to fp32\n",
    "mode = \"int8\"\n",
    "\n",
    "threshold = 1\n",
    "if mode == \"int16\":\n",
    "    scale = threshold/32767\n",
    "if mode == \"int8\":\n",
    "    scale = threshold/127\n",
    "elif mode == \"int4\":\n",
    "    scale = threshold/7\n",
    "\n",
    "for i, d in enumerate(data):\n",
    "    data[i] = data[i] * scale"
   ]
  },
  {
   "cell_type": "code",
   "execution_count": 23,
   "id": "fd5aaf31-0d94-4845-a946-df91da92afd4",
   "metadata": {},
   "outputs": [
    {
     "data": {
      "text/plain": [
       "0.9584787901668528"
      ]
     },
     "execution_count": 23,
     "metadata": {},
     "output_type": "execute_result"
    }
   ],
   "source": [
    "def cos_sim(a, b):\n",
    "  \"\"\"计算两个向量a和b的余弦相似度\"\"\"\n",
    "  \n",
    "  a = np.array(a) \n",
    "  b = np.array(b)\n",
    "\n",
    "  inner_product = np.dot(a, b)\n",
    "  # 内积\n",
    "  norm_a = np.linalg.norm(a)  \n",
    "  norm_b = np.linalg.norm(b)\n",
    "  # 模长\n",
    "  cos_sim = inner_product / (norm_a * norm_b)\n",
    "\n",
    "  return cos_sim\n",
    "\n",
    "cos_sim(data, fp32_data)"
   ]
  },
  {
   "cell_type": "code",
   "execution_count": 4,
   "id": "8d0c2068-8959-44b5-99eb-c2360e017e74",
   "metadata": {},
   "outputs": [],
   "source": [
    "# matrix matmul\n",
    "# [1,768] x [768,1000] = [1,1000]\n",
    "# int8_matrix_A = floor(127 / threshold1 * matrix_A)\n",
    "# int8_matrix_B = floor(127 / threshold2 * matrix_B)\n",
    "# int32_matrix_C = matmul(int8_matrix_A, int8_matrix_B)\n",
    "# float32_matrix_C = (threshold1 * threshold2) / (127 * 127) * int32_matrix_C\n",
    "import math\n",
    "import copy\n",
    "import numpy as np\n",
    "\n",
    "def symmetrical_quantize(inputs, threshold, mode=\"int8\"):\n",
    "    shape = inputs.shape\n",
    "    data = inputs.flatten()\n",
    "    if mode == \"int16\":\n",
    "        upper = 32767\n",
    "        lower = -32768\n",
    "    if mode == \"int8\":\n",
    "        upper = 127\n",
    "        lower = -128\n",
    "    elif mode == \"int4\":\n",
    "        upper = 7\n",
    "        lower = -8\n",
    "    inv_scale = upper / threshold\n",
    "    for i, d in enumerate(data):\n",
    "        data[i] = math.floor(data[i] * inv_scale + 0.5)\n",
    "        data[i] = data[i] if data[i] < upper else upper\n",
    "        data[i] = data[i] if data[i] > lower else lower\n",
    "    return data.reshape(shape)\n",
    "\n",
    "def symmetrical_dequantize(inputs, threshold, mode=\"int8\"):\n",
    "    shape = inputs.shape\n",
    "    data = inputs.flatten()\n",
    "    if mode == \"int16\":\n",
    "        scale = threshold/32767\n",
    "    if mode == \"int8\":\n",
    "        scale = threshold/127\n",
    "    elif mode == \"int4\":\n",
    "        scale = threshold/7\n",
    "    for i, d in enumerate(data):\n",
    "        data[i] = data[i] * scale\n",
    "    return data.reshape(shape)\n",
    "\n",
    "def symmetrical_dequantize_for_matmul(inputs, threshold1, threshold2, mode=\"int8\"):\n",
    "    shape = inputs.shape\n",
    "    data = inputs.flatten()\n",
    "    if mode == \"int16\":\n",
    "        scale = threshold1/32767 * threshold2/32767\n",
    "    if mode == \"int8\":\n",
    "        scale = threshold1/127 * threshold2/127\n",
    "    elif mode == \"int4\":\n",
    "        scale = threshold1/7 * threshold2/7\n",
    "    for i, d in enumerate(data):\n",
    "        data[i] = data[i] * scale\n",
    "    return data.reshape(shape)\n",
    "\n",
    "def cos_sim(a, b):\n",
    "    a = np.array(a)\n",
    "    b = np.array(b)\n",
    "    inner_product = np.dot(a, b)\n",
    "    norm_a = np.linalg.norm(a)  \n",
    "    norm_b = np.linalg.norm(b)\n",
    "    cos_sim = inner_product / (norm_a * norm_b)\n",
    "    return cos_sim"
   ]
  },
  {
   "cell_type": "code",
   "execution_count": 18,
   "id": "1f27b276-24e1-41ee-8c98-1561e72a787c",
   "metadata": {},
   "outputs": [
    {
     "name": "stdout",
     "output_type": "stream",
     "text": [
      "0.9\n",
      "19\n",
      "0.1\n",
      "11\n",
      "0.9999955822144798\n"
     ]
    },
    {
     "data": {
      "text/plain": [
       "(array([[ 9. ,  9.6, 10.2],\n",
       "        [21.6, 23.1, 24.6],\n",
       "        [34.2, 36.6, 39. ]]),\n",
       " array([[ 8.97637795,  9.54181908, 10.2015004 ],\n",
       "        [21.66780334, 23.08884618, 24.74672949],\n",
       "        [34.2488685 , 36.51807304, 39.16547833]]))"
      ]
     },
     "execution_count": 18,
     "metadata": {},
     "output_type": "execute_result"
    }
   ],
   "source": [
    "## matmul example 1\n",
    "tensor = np.array([[0.1,0.2,0.3],[0.4,0.5,0.6],[0.7,0.8,0.9]])\n",
    "weight = np.array([[11,12,13],[14,15,16],[17,18,19]])\n",
    "result = np.matmul(tensor, weight)\n",
    "\n",
    "print(np.max(tensor))\n",
    "print(np.max(weight))\n",
    "print(np.min(tensor))\n",
    "print(np.min(weight))\n",
    "\n",
    "# when the threshold = 1, the error between int8_result and result is too large\n",
    "threshold1 = 1\n",
    "threshold2 = 20\n",
    "\n",
    "int8_tensor = symmetrical_quantize(tensor, threshold=threshold1)\n",
    "int8_weight = symmetrical_quantize(weight, threshold=threshold2)\n",
    "intermediate_result = np.matmul(int8_tensor, int8_weight)\n",
    "int8_result = symmetrical_dequantize_for_matmul(intermediate_result, threshold1=threshold1, threshold2=threshold2)\n",
    "\n",
    "print(cos_sim(result.flatten(), int8_result.flatten()))\n",
    "result[:,:10], int8_result[:,:10]"
   ]
  },
  {
   "cell_type": "code",
   "execution_count": 5,
   "id": "dbd83bcf-5af9-4633-9512-0a992dc22187",
   "metadata": {},
   "outputs": [
    {
     "name": "stdout",
     "output_type": "stream",
     "text": [
      "0.9\n",
      "19\n",
      "0.1\n",
      "11\n",
      "0.9999972695330366\n"
     ]
    },
    {
     "data": {
      "text/plain": [
       "(array([[ 1.1,  2.4,  3.9],\n",
       "        [ 5.6,  7.5,  9.6],\n",
       "        [11.9, 14.4, 17.1]]),\n",
       " array([[ 1.12840226,  2.35600471,  3.91096782],\n",
       "        [ 5.62837126,  7.53921508,  9.61249922],\n",
       "        [11.91890384, 14.41874884, 17.10459421]]))"
      ]
     },
     "execution_count": 5,
     "metadata": {},
     "output_type": "execute_result"
    }
   ],
   "source": [
    "## mul example 1\n",
    "tensor = np.array([[0.1,0.2,0.3],[0.4,0.5,0.6],[0.7,0.8,0.9]])\n",
    "weight = np.array([[11,12,13],[14,15,16],[17,18,19]])\n",
    "result = tensor * weight\n",
    "\n",
    "print(np.max(tensor))\n",
    "print(np.max(weight))\n",
    "print(np.min(tensor))\n",
    "print(np.min(weight))\n",
    "\n",
    "# when the threshold = 1, the error between int8_result and result is too large\n",
    "threshold1 = 1\n",
    "threshold2 = 20\n",
    "\n",
    "int8_tensor = symmetrical_quantize(tensor, threshold=threshold1)\n",
    "int8_weight = symmetrical_quantize(weight, threshold=threshold2)\n",
    "intermediate_result = int8_tensor * int8_weight\n",
    "int8_result = symmetrical_dequantize_for_matmul(intermediate_result, threshold1=threshold1, threshold2=threshold2)\n",
    "\n",
    "print(cos_sim(result.flatten(), int8_result.flatten()))\n",
    "result[:,:10], int8_result[:,:10]"
   ]
  },
  {
   "cell_type": "code",
   "execution_count": 19,
   "id": "a1c5e815-6bb4-4da0-a926-74f8ee2b28cf",
   "metadata": {},
   "outputs": [
    {
     "data": {
      "text/plain": [
       "array([[ 13.,  25.,  38.],\n",
       "       [ 51.,  64.,  76.],\n",
       "       [ 89., 102., 114.]])"
      ]
     },
     "execution_count": 19,
     "metadata": {},
     "output_type": "execute_result"
    }
   ],
   "source": [
    "int8_tensor"
   ]
  },
  {
   "cell_type": "code",
   "execution_count": 80,
   "id": "05a1e4ea-2b22-4507-a68e-c5f2031b4093",
   "metadata": {},
   "outputs": [
    {
     "name": "stdout",
     "output_type": "stream",
     "text": [
      "2.988993216483128\n",
      "4.458080497811677\n",
      "-2.9289277392894566\n",
      "-5.147599178197374\n",
      "0.9998726066226508\n"
     ]
    },
    {
     "data": {
      "text/plain": [
       "(array([[-73.75150982,  -4.31813058,  12.57974629, -10.68935737,\n",
       "          10.77199455, -13.19095254, -17.71379844,  -8.98059361,\n",
       "           8.31790299, -46.41506526]]),\n",
       " array([[-74.75664951,  -4.48105896,  11.92417385, -10.75547151,\n",
       "          10.57722115, -12.57827516, -17.96298593,  -9.61311923,\n",
       "           7.98561597, -46.09399219]]))"
      ]
     },
     "execution_count": 80,
     "metadata": {},
     "output_type": "execute_result"
    }
   ],
   "source": [
    "tensor = np.random.randn(1,768)\n",
    "weight = np.random.randn(768,1000)\n",
    "result = np.matmul(tensor, weight)\n",
    "\n",
    "print(np.max(tensor))\n",
    "print(np.max(weight))\n",
    "print(np.min(tensor))\n",
    "print(np.min(weight))\n",
    "\n",
    "# when the threshold = 1, the error between int8_result and result is too large\n",
    "threshold1 = 5\n",
    "threshold2 = 5\n",
    "\n",
    "int8_tensor = symmetrical_quantize(tensor, threshold=threshold1)\n",
    "int8_weight = symmetrical_quantize(weight, threshold=threshold2)\n",
    "intermediate_result = np.matmul(int8_tensor, int8_weight)\n",
    "int8_result = symmetrical_dequantize_for_matmul(intermediate_result, threshold1=threshold1, threshold2=threshold2)\n",
    "\n",
    "print(cos_sim(result.flatten(), int8_result.flatten()))\n",
    "result[:,:10], int8_result[:,:10]"
   ]
  },
  {
   "cell_type": "code",
   "execution_count": 13,
   "id": "207b815c-b8cd-4b8d-86fa-2d36c08ca1eb",
   "metadata": {},
   "outputs": [
    {
     "name": "stdout",
     "output_type": "stream",
     "text": [
      "4.317824502061027\n",
      "2.6988657048137092\n",
      "-4.623954706232497\n",
      "-6.359733633120778\n",
      "0.997362705519197\n"
     ]
    },
    {
     "data": {
      "text/plain": [
       "(array([-1.02138361, -2.85443906, -0.91101856, -1.36218677, -3.45801758,\n",
       "        -2.88252643, -1.05356366, -1.41004089,  1.6032474 , -1.81443685]),\n",
       " array([-0.38654259, -1.35289907, -0.40801718, -0.68718683, -1.63206872,\n",
       "        -1.26700072, -0.32211883, -0.60128848,  0.88045812, -0.77308518]))"
      ]
     },
     "execution_count": 13,
     "metadata": {},
     "output_type": "execute_result"
    }
   ],
   "source": [
    "# matrix add\n",
    "# [1,197,768] + [1,197,768] = [1,197,768]\n",
    "# int8_matrix_A = floor(127 / threshold1 * matrix_A)\n",
    "# int8_matrix_B = floor(127 / threshold2 * matrix_B)\n",
    "# int32_matrix_C = int8_matrix_A + int8_matrix_B\n",
    "# float32_matrix_C = (threshold1/127 + threshold2/127)/2 * int32_matrix_C\n",
    "import math\n",
    "import copy\n",
    "import numpy as np\n",
    "\n",
    "def symmetrical_dequantize_for_add(inputs, threshold1, threshold2, mode=\"int8\"):\n",
    "    shape = inputs.shape\n",
    "    data = inputs.flatten()\n",
    "    if mode == \"int16\":\n",
    "        scale = 1/(32767/threshold1 + 32767/threshold2)\n",
    "    if mode == \"int8\":\n",
    "        scale = (threshold1/127 + threshold2/127)/2\n",
    "    elif mode == \"int4\":\n",
    "        scale = 1/(7/threshold1 + 7/threshold2)\n",
    "    for i, d in enumerate(data):\n",
    "        data[i] = data[i] * scale\n",
    "    return data.reshape(shape)\n",
    "\n",
    "tensor = np.random.randn(1,197,768)\n",
    "weight = np.random.randn(1,197,768) - 2\n",
    "result = tensor + weight # add\n",
    "\n",
    "print(np.max(tensor))\n",
    "print(np.max(weight))\n",
    "print(np.min(tensor))\n",
    "print(np.min(weight))\n",
    "\n",
    "threshold1 = 5\n",
    "threshold2 = 6\n",
    "\n",
    "int8_tensor = symmetrical_quantize(tensor, threshold=threshold1)\n",
    "int8_weight = symmetrical_quantize(weight, threshold=threshold2)\n",
    "intermediate_result = int8_tensor + int8_weight # add\n",
    "int8_result = symmetrical_dequantize_for_add(intermediate_result, threshold1=threshold1, threshold2=threshold2)\n",
    "\n",
    "print(cos_sim(result.flatten(), int8_result.flatten()))\n",
    "result[0,0,:10], int8_result[0,0,:10]"
   ]
  },
  {
   "cell_type": "code",
   "execution_count": 22,
   "id": "8fc95169-ccb2-4495-b102-6ca8ff26caf2",
   "metadata": {},
   "outputs": [
    {
     "name": "stdout",
     "output_type": "stream",
     "text": [
      "0.9\n",
      "19\n",
      "0.1\n",
      "11\n",
      "0.9929282921942728\n"
     ]
    },
    {
     "data": {
      "text/plain": [
       "(array([[11.1, 12.2, 13.3],\n",
       "        [14.4, 15.5, 16.6],\n",
       "        [17.7, 18.8, 19.9]]),\n",
       " array([[0.6224222 , 0.75740532, 0.90738658],\n",
       "        [1.04986877, 1.19235096, 1.33483315],\n",
       "        [1.47731534, 1.61979753, 1.76227972]]))"
      ]
     },
     "execution_count": 22,
     "metadata": {},
     "output_type": "execute_result"
    }
   ],
   "source": [
    "## add example 1\n",
    "tensor = np.array([[0.1,0.2,0.3],[0.4,0.5,0.6],[0.7,0.8,0.9]])\n",
    "weight = np.array([[11,12,13],[14,15,16],[17,18,19]])\n",
    "result = tensor + weight\n",
    "\n",
    "print(np.max(tensor))\n",
    "print(np.max(weight))\n",
    "print(np.min(tensor))\n",
    "print(np.min(weight))\n",
    "\n",
    "# when the threshold = 1, the error between int8_result and result is too large\n",
    "threshold1 = 1\n",
    "threshold2 = 20\n",
    "\n",
    "int8_tensor = symmetrical_quantize(tensor, threshold=threshold1)\n",
    "int8_weight = symmetrical_quantize(weight, threshold=threshold2)\n",
    "intermediate_result = int8_tensor + int8_weight\n",
    "int8_result = symmetrical_dequantize_for_add(intermediate_result, threshold1=threshold1, threshold2=threshold2)\n",
    "\n",
    "print(cos_sim(result.flatten(), int8_result.flatten()))\n",
    "result[:,:10], int8_result[:,:10]"
   ]
  },
  {
   "cell_type": "code",
   "execution_count": 103,
   "id": "a3c77ce9-b84b-4f81-b77c-0e59fcc3d995",
   "metadata": {},
   "outputs": [
    {
     "name": "stdout",
     "output_type": "stream",
     "text": [
      "1.0\n",
      "4.542552793674177\n",
      "0.2\n",
      "-4.644645792432321\n",
      "0.999984987341572\n"
     ]
    },
    {
     "data": {
      "text/plain": [
       "(array([0.4472136 , 1.        , 0.57172395, 0.4472136 , 0.4472136 ,\n",
       "        0.4472136 , 0.66295482, 0.4472136 , 0.4472136 , 1.        ]),\n",
       " array([0.44280744, 1.        , 0.57735027, 0.44280744, 0.44280744,\n",
       "        0.44280744, 0.65678958, 0.44280744, 0.44280744, 1.        ]))"
      ]
     },
     "execution_count": 103,
     "metadata": {},
     "output_type": "execute_result"
    }
   ],
   "source": [
    "# matrix sqrt\n",
    "# sqrt([1,197,768]) = [1,197,768]\n",
    "# int8_matrix_A = floor(255 / threshold1 * matrix_A)\n",
    "# int32_matrix_C = sqrt(int8_matrix_A)\n",
    "# float32_matrix_C = sqrt(threshold1/127) * int32_matrix_C\n",
    "import math\n",
    "import copy\n",
    "import numpy as np\n",
    "\n",
    "def symmetrical_quantize_for_sqrt(inputs, threshold, mode=\"int8\"):\n",
    "    shape = inputs.shape\n",
    "    data = inputs.flatten()\n",
    "    upper_coeff_dict = {\"int16\": 65535, \"int8\": 255, \"int4\": 15}\n",
    "    upper = upper_coeff_dict[mode]\n",
    "    lower = 0\n",
    "    \n",
    "    inv_scale = upper / threshold\n",
    "    for i, d in enumerate(data):\n",
    "        data[i] = math.floor(data[i] * inv_scale + 0.5)\n",
    "        data[i] = data[i] if data[i] < upper else upper\n",
    "        data[i] = data[i] if data[i] > lower else lower\n",
    "    return data.reshape(shape)\n",
    "\n",
    "def symmetrical_dequantize_for_sqrt(inputs, threshold1, mode=\"int8\"):\n",
    "    shape = inputs.shape\n",
    "    data = inputs.flatten()\n",
    "    coeff_dict = {\"int16\": 65535, \"int8\": 255, \"int4\": 15}\n",
    "    scale = math.sqrt(threshold1 / coeff_dict[mode])\n",
    "    data = data * scale\n",
    "    return data.reshape(shape)\n",
    "\n",
    "tensor = np.clip(np.random.randn(1,197,768),0.2,1)\n",
    "result = np.sqrt(tensor) # sqrt\n",
    "\n",
    "print(np.max(tensor))\n",
    "print(np.max(weight))\n",
    "print(np.min(tensor))\n",
    "print(np.min(weight))\n",
    "\n",
    "threshold1 = 5\n",
    "\n",
    "int8_tensor = symmetrical_quantize_for_sqrt(tensor, threshold=threshold1)\n",
    "intermediate_result = np.sqrt(int8_tensor) # sqrt\n",
    "int8_result = symmetrical_dequantize_for_sqrt(intermediate_result, threshold1=threshold1)\n",
    "\n",
    "print(cos_sim(result.flatten(), int8_result.flatten()))\n",
    "result[0,0,:10], int8_result[0,0,:10]\n",
    "\n",
    "# TODO: use select from table to sqrt ( replace SqrtOp and DequantizeOp with TableOP)"
   ]
  },
  {
   "cell_type": "markdown",
   "id": "023074d0-31c0-48b7-a172-987cc6bf3683",
   "metadata": {},
   "source": [
    "### SQRT table"
   ]
  },
  {
   "cell_type": "code",
   "execution_count": 18,
   "id": "a8e404a0-0c4e-4df7-9870-01866f06761f",
   "metadata": {},
   "outputs": [
    {
     "name": "stdout",
     "output_type": "stream",
     "text": [
      "0.9\n",
      "19\n",
      "0.1\n",
      "11\n",
      "0.9999796929976292\n"
     ]
    },
    {
     "data": {
      "text/plain": [
       "(array([[0.31622777, 0.4472136 , 0.54772256],\n",
       "        [0.63245553, 0.70710678, 0.77459667],\n",
       "        [0.83666003, 0.89442719, 0.9486833 ]]),\n",
       " array([[0.31311215, 0.44280744, 0.54232614],\n",
       "        [0.62622429, 0.71400555, 0.77964295],\n",
       "        [0.84016805, 0.89661673, 0.94971616]]))"
      ]
     },
     "execution_count": 18,
     "metadata": {},
     "output_type": "execute_result"
    }
   ],
   "source": [
    "# matrix sqrt\n",
    "# sqrt([1,197,768]) = [1,197,768]\n",
    "# int8_matrix_A = floor(255 / threshold1 * matrix_A)\n",
    "# int32_matrix_C = sqrt(int8_matrix_A)\n",
    "# float32_matrix_C = sqrt(threshold1/127) * int32_matrix_C\n",
    "import math\n",
    "import copy\n",
    "import numpy as np\n",
    "\n",
    "def symmetrical_quantize_for_sqrt(inputs, threshold, mode=\"int8\"):\n",
    "    shape = inputs.shape\n",
    "    data = inputs.flatten()\n",
    "    upper_coeff_dict = {\"int16\": 65535, \"int8\": 255, \"int4\": 15}\n",
    "    upper = upper_coeff_dict[mode]\n",
    "    lower = 0\n",
    "    \n",
    "    inv_scale = upper / threshold\n",
    "    for i, d in enumerate(data):\n",
    "        data[i] = math.floor(data[i] * inv_scale + 0.5)\n",
    "        data[i] = data[i] if data[i] < upper else upper\n",
    "        data[i] = data[i] if data[i] > lower else lower\n",
    "    return data.reshape(shape)\n",
    "\n",
    "def symmetrical_dequantize_for_sqrt(inputs, threshold1, mode=\"int8\"):\n",
    "    shape = inputs.shape\n",
    "    data = inputs.flatten()\n",
    "    coeff_dict = {\"int16\": 65535, \"int8\": 255, \"int4\": 15}\n",
    "    # import pdb;pdb.set_trace()\n",
    "    scale = math.sqrt(threshold1 / coeff_dict[mode])\n",
    "    data = data * scale\n",
    "    return data.reshape(shape)\n",
    "\n",
    "def symmetrical_dequantize_for_sqrt_table(inputs, threshold1, mode=\"int8\"):\n",
    "    shape = inputs.shape\n",
    "    data = inputs.flatten()\n",
    "    coeff_dict = {\"int16\": 65535, \"int8\": 255, \"int4\": 15}\n",
    "    \n",
    "    scale = math.sqrt(threshold1 / coeff_dict[mode])\n",
    "    table = [np.sqrt(d) * scale for d in range(0,256)]\n",
    "    data = np.array([table[i] for i in data.astype(np.int8)])\n",
    "    return data.reshape(shape)\n",
    "\n",
    "tensor = np.array([[0.1,0.2,0.3],[0.4,0.5,0.6],[0.7,0.8,0.9]])\n",
    "result = np.sqrt(tensor) # sqrt\n",
    "\n",
    "\n",
    "print(np.max(tensor))\n",
    "print(np.max(weight))\n",
    "print(np.min(tensor))\n",
    "print(np.min(weight))\n",
    "\n",
    "threshold1 = 5\n",
    "\n",
    "int8_tensor = symmetrical_quantize_for_sqrt(tensor, threshold=threshold1)\n",
    "int8_result = symmetrical_dequantize_for_sqrt_table(int8_tensor, threshold1=threshold1)\n",
    "\n",
    "print(cos_sim(result.flatten(), int8_result.flatten()))\n",
    "result[:], int8_result[:]\n",
    "\n",
    "# TODO: use select from table to sqrt ( replace SqrtOp and DequantizeOp with TableOP)"
   ]
  },
  {
   "cell_type": "code",
   "execution_count": 16,
   "id": "90456a1f-7d1a-44b6-a54a-54f58cc298cd",
   "metadata": {},
   "outputs": [
    {
     "data": {
      "text/plain": [
       "array([[ 5., 10., 15.],\n",
       "       [20., 26., 31.],\n",
       "       [36., 41., 46.]])"
      ]
     },
     "execution_count": 16,
     "metadata": {},
     "output_type": "execute_result"
    }
   ],
   "source": [
    "int8_tensor"
   ]
  },
  {
   "cell_type": "code",
   "execution_count": 11,
   "id": "4bfc3dc4-266e-47b1-89ab-5390a8a93ce2",
   "metadata": {},
   "outputs": [
    {
     "data": {
      "text/plain": [
       "array([[ 5., 10., 15.],\n",
       "       [20., 26., 31.],\n",
       "       [36., 41., 46.]])"
      ]
     },
     "execution_count": 11,
     "metadata": {},
     "output_type": "execute_result"
    }
   ],
   "source": [
    "int8_tensor"
   ]
  },
  {
   "cell_type": "markdown",
   "id": "79869fd4-9eb0-4646-92f4-569d4be39585",
   "metadata": {},
   "source": [
    "### GELU table\n",
    "\n",
    "原理：用gelu (x大于1时逼近y=x这个线性函数，用线性去取代非线性)"
   ]
  },
  {
   "cell_type": "code",
   "execution_count": 84,
   "id": "95e36334-1005-4982-8736-954c6d7d1604",
   "metadata": {},
   "outputs": [
    {
     "name": "stdout",
     "output_type": "stream",
     "text": [
      "0.6\n",
      "-9.0\n"
     ]
    },
    {
     "data": {
      "text/plain": [
       "(array([[-0.00000000e+00, -0.00000000e+00, -2.33146835e-15],\n",
       "        [-5.45487655e-02, -6.47404732e-02, -7.58941044e-02],\n",
       "        [ 2.62161169e-01,  3.45714010e-01,  4.35415199e-01],\n",
       "        [-1.69429865e-01, -1.69568309e-01, -1.65771511e-01]]),\n",
       " array([[-0.00000000e+00, -0.00000000e+00, -3.85975973e-15],\n",
       "        [-5.70009644e-02, -6.50750546e-02, -7.37353375e-02],\n",
       "        [ 2.54666078e-01,  3.18912571e-01,  4.58721150e-01],\n",
       "        [-1.69501454e-01, -1.69865481e-01, -1.67738965e-01]]))"
      ]
     },
     "execution_count": 84,
     "metadata": {},
     "output_type": "execute_result"
    }
   ],
   "source": [
    "# matrix sqrt\n",
    "# sqrt([1,197,768]) = [1,197,768]\n",
    "# int8_matrix_A = floor(255 / threshold1 * matrix_A)\n",
    "# int32_matrix_C = sqrt(int8_matrix_A)\n",
    "# float32_matrix_C = sqrt(threshold1/127) * int32_matrix_C\n",
    "import math\n",
    "import copy\n",
    "import numpy as np\n",
    "\n",
    "def symmetrical_quantize_for_gelu_table(inputs, threshold, mode=\"int8\"):\n",
    "    shape = inputs.shape\n",
    "    data = inputs.flatten()\n",
    "    upper_coeff_dict = {\"int16\": 65535, \"int8\": 127, \"int4\": 15}\n",
    "    upper = upper_coeff_dict[mode]\n",
    "    lower = -128\n",
    "    \n",
    "    inv_scale = upper / threshold\n",
    "    for i, d in enumerate(data):\n",
    "        data[i] = math.floor((data[i]) * inv_scale  + 0.5)\n",
    "        data[i] = data[i] if data[i] < upper else upper\n",
    "        data[i] = data[i] if data[i] > lower else lower\n",
    "    return data.reshape(shape)\n",
    "\n",
    "def gelu(x):\n",
    "    return 0.5 * x * (1 + np.tanh(np.sqrt(2/np.pi) * (x + 0.044715 * np.power(x, 3))))\n",
    "\n",
    "def symmetrical_dequantize_for_gelu_table(inputs, threshold, mode=\"int8\"):\n",
    "    shape = inputs.shape\n",
    "    data = inputs.flatten()\n",
    "    coeff_dict = {\"int16\": 65535, \"int8\": 127, \"int4\": 15}\n",
    "    \n",
    "    scale = threshold1 / coeff_dict[mode]\n",
    "    inv_scale = 1 / scale\n",
    "    table = [gelu(d * threshold/128 - threshold) for d in range(0,256)]\n",
    "    data = np.array([(table[i + 128]) for i in data.astype(np.int8)])\n",
    "    return data.reshape(shape)\n",
    "\n",
    "tensor = np.array([[-9.0,-8.0,-7.0],[-1.9,-1.8,-1.7],[0.4,0.5,0.6],[-0.7,-0.8,-0.9]])\n",
    "result = gelu(tensor) # gelu\n",
    "\n",
    "\n",
    "print(np.max(tensor))\n",
    "print(np.min(tensor))\n",
    "\n",
    "threshold1 = 10\n",
    "\n",
    "int8_tensor = symmetrical_quantize_for_gelu_table(tensor, threshold=threshold1)\n",
    "int8_result = symmetrical_dequantize_for_gelu_table(int8_tensor, threshold=threshold1)\n",
    "\n",
    "result[:], int8_result[:]\n",
    "\n",
    "# TODO: use select from table to sqrt ( replace SqrtOp and DequantizeOp with TableOP)"
   ]
  },
  {
   "cell_type": "code",
   "execution_count": 86,
   "id": "891b315a-fbce-40c9-b4d7-1e7b1e92ef81",
   "metadata": {},
   "outputs": [
    {
     "data": {
      "text/plain": [
       "array([[-114., -102.,  -89.],\n",
       "       [ -24.,  -23.,  -22.],\n",
       "       [   5.,    6.,    8.],\n",
       "       [  -9.,  -10.,  -11.]])"
      ]
     },
     "execution_count": 86,
     "metadata": {},
     "output_type": "execute_result"
    }
   ],
   "source": [
    "  for (auto i = min_th; i <= max_th; i++) {\n",
    "    float step = func(i * threshold/127. - threshold);\n",
    "    float tmp = std::clamp(floor(step * 255./threshold - 128.), -128., 127.);\n",
    "    int8_t data = static_cast<int8_t>(tmp);\n",
    "    table.push_back(data);\n",
    "  }"
   ]
  },
  {
   "cell_type": "code",
   "execution_count": 17,
   "id": "afc77efc-e969-43ad-84a6-10eb7a516ad8",
   "metadata": {
    "scrolled": true
   },
   "outputs": [
    {
     "name": "stdout",
     "output_type": "stream",
     "text": [
      "[-128 -128 -128 -128 -128 -128  123  124  124 -128 -128 -128  127  127\n",
      "  127]\n",
      "256\n",
      "[-128 -100  -72   73   76   78  127  127  127  107  104  101  127  127\n",
      "  127]\n",
      "256\n"
     ]
    }
   ],
   "source": [
    "import math\n",
    "import numpy as np\n",
    "\n",
    "def lowering_asymetric(data, in_scale, in_zp, upper, lower):\n",
    "    for i, d in enumerate(data):\n",
    "        data[i] = math.floor(data[i] / in_scale + in_zp)\n",
    "        data[i] = data[i] if data[i] < upper else upper\n",
    "        data[i] = data[i] if data[i] > lower else lower\n",
    "    return data\n",
    "\n",
    "def gelu(x):\n",
    "    return 0.5 * x * (1 + np.tanh(np.sqrt(2/np.pi) * (x + 0.044715 * np.power(x, 3))))\n",
    "\n",
    "\n",
    "\n",
    "def getScaleAndZeropoint(fmax, fmin, qmax, qmin):\n",
    "    scale = (fmax - fmin) / (qmax - qmin)\n",
    "    zp = -fmin/scale + qmin\n",
    "    return scale, zp\n",
    "\n",
    "def cos_sim(a, b):\n",
    "    a = np.array(a)\n",
    "    b = np.array(b)\n",
    "    inner_product = np.dot(a, b)\n",
    "    norm_a = np.linalg.norm(a)  \n",
    "    norm_b = np.linalg.norm(b)\n",
    "    cos_sim = inner_product / (norm_a * norm_b)\n",
    "    return cos_sim\n",
    "\n",
    "\n",
    "def table_op(tensor, in_scale, in_zp, out_scale, out_zp, qmax, qmin):\n",
    "    int8_tensor = lowering_asymetric(tensor.flatten(), in_scale, in_zp, qmax, qmin)\n",
    "    print(int8_tensor.astype(np.int8))\n",
    "    table = []\n",
    "    for i in range(qmin,qmax+1):\n",
    "        step = (i - in_zp) * in_scale\n",
    "        table.append(np.clip(np.floor(gelu(step) / out_scale + out_zp), -128, 127))\n",
    "    # lut\n",
    "    print(len(table))\n",
    "    lookup_value  = np.array([table[i+128] for i in int8_tensor.astype(np.int8)])\n",
    "    return (lookup_value - out_zp) * out_scale\n",
    "\n",
    "\n",
    "tensor = np.array([[-9.0,-8.0,-7.0],[-1.9,-1.8,-1.7],[49.4,49.5,49.6],[-0.7,-0.8,-0.9],[100.7,100.8,100.9]])\n",
    "\n",
    "large_posi = np.clip(tensor, 100, 10000)\n",
    "\n",
    "in_fmin = 0\n",
    "in_fmax = 50\n",
    "out_fmin = -1\n",
    "out_fmax = 50\n",
    "qmax = 127\n",
    "qmin = -128\n",
    "in_scale, in_zp = getScaleAndZeropoint(in_fmax, in_fmin, qmax, qmin)\n",
    "out_scale, out_zp = getScaleAndZeropoint(out_fmax, out_fmin, qmax, qmin)\n",
    "posi = table_op(np.clip(tensor, 0, 100), in_scale, in_zp, out_scale, out_zp, qmax, qmin)\n",
    "\n",
    "in_fmin = -9\n",
    "in_fmax = 0\n",
    "out_fmin = -1\n",
    "out_fmax = 50\n",
    "qmax = 127\n",
    "qmin = -128\n",
    "in_scale, in_zp = getScaleAndZeropoint(in_fmax, in_fmin, qmax, qmin)\n",
    "out_scale, out_zp = getScaleAndZeropoint(out_fmax, out_fmin, qmax, qmin)\n",
    "neg = table_op(np.clip(tensor, -100, 0), in_scale, in_zp, out_scale, out_zp, qmax, qmin)"
   ]
  },
  {
   "cell_type": "code",
   "execution_count": 18,
   "id": "153a6a2e-1fec-4d12-9da5-288ef1dc1a21",
   "metadata": {},
   "outputs": [
    {
     "ename": "ValueError",
     "evalue": "operands could not be broadcast together with shapes (15,) (5,3) ",
     "output_type": "error",
     "traceback": [
      "\u001b[0;31m---------------------------------------------------------------------------\u001b[0m",
      "\u001b[0;31mValueError\u001b[0m                                Traceback (most recent call last)",
      "Cell \u001b[0;32mIn[18], line 1\u001b[0m\n\u001b[0;32m----> 1\u001b[0m cos_sim(\u001b[43mposi\u001b[49m\u001b[43m \u001b[49m\u001b[38;5;241;43m+\u001b[39;49m\u001b[43m \u001b[49m\u001b[43mneg\u001b[49m\u001b[43m \u001b[49m\u001b[38;5;241;43m+\u001b[39;49m\u001b[43m \u001b[49m\u001b[43mlarge_posi\u001b[49m, np\u001b[38;5;241m.\u001b[39marray([gelu(d) \u001b[38;5;28;01mfor\u001b[39;00m d \u001b[38;5;129;01min\u001b[39;00m tensor\u001b[38;5;241m.\u001b[39mflatten()]))\n",
      "\u001b[0;31mValueError\u001b[0m: operands could not be broadcast together with shapes (15,) (5,3) "
     ]
    }
   ],
   "source": [
    "cos_sim(posi + neg + large_posi, np.array([gelu(d) for d in tensor.flatten()]))"
   ]
  },
  {
   "cell_type": "code",
   "execution_count": 75,
   "id": "62ab46cd-beea-4a35-8141-d77c61be96dc",
   "metadata": {},
   "outputs": [
    {
     "data": {
      "text/plain": [
       "0.9999973385304844"
      ]
     },
     "execution_count": 75,
     "metadata": {},
     "output_type": "execute_result"
    }
   ],
   "source": [
    "cos_sim(posi + neg, np.array([gelu(d) for d in tensor.flatten()]))"
   ]
  },
  {
   "cell_type": "code",
   "execution_count": 11,
   "id": "0af7f10f-9edc-4b6a-9d65-b1a8b0ba02a9",
   "metadata": {},
   "outputs": [
    {
     "data": {
      "text/plain": [
       "3.399094149016546"
      ]
     },
     "execution_count": 11,
     "metadata": {},
     "output_type": "execute_result"
    }
   ],
   "source": [
    "gelu(3.4)"
   ]
  },
  {
   "cell_type": "code",
   "execution_count": 84,
   "id": "22735304-3782-4f82-b75b-38f23de91d7a",
   "metadata": {},
   "outputs": [
    {
     "data": {
      "text/plain": [
       "0.34571400982514394"
      ]
     },
     "execution_count": 84,
     "metadata": {},
     "output_type": "execute_result"
    }
   ],
   "source": [
    "gelu(0.5)"
   ]
  },
  {
   "cell_type": "code",
   "execution_count": 85,
   "id": "e50aaac1-86dc-4a1a-8a2c-0edc12c28d10",
   "metadata": {},
   "outputs": [
    {
     "data": {
      "text/plain": [
       "0.8411919906082768"
      ]
     },
     "execution_count": 85,
     "metadata": {},
     "output_type": "execute_result"
    }
   ],
   "source": [
    "gelu(1)"
   ]
  },
  {
   "cell_type": "code",
   "execution_count": 58,
   "id": "9818e922-6db6-4960-a9f0-38f5e24228de",
   "metadata": {},
   "outputs": [
    {
     "name": "stdout",
     "output_type": "stream",
     "text": [
      "[101 101 101 101 101 101 111 114 116 101 101 101]\n",
      "256\n"
     ]
    }
   ],
   "source": [
    "in_fmin = -9\n",
    "in_fmax = 1\n",
    "out_fmin = -1\n",
    "out_fmax = 1\n",
    "qmax = 127\n",
    "qmin = -128\n",
    "in_scale, in_zp = getScaleAndZeropoint(in_fmax, in_fmin, qmax, qmin)\n",
    "out_scale, out_zp = getScaleAndZeropoint(out_fmax, out_fmin, qmax, qmin)\n",
    "posi = table_op(np.clip(tensor, 0, 100), in_scale, in_zp, out_scale, out_zp, qmax, qmin)"
   ]
  },
  {
   "cell_type": "code",
   "execution_count": 59,
   "id": "d27d7e39-9e72-45a7-a011-4531e8f3c9fc",
   "metadata": {},
   "outputs": [
    {
     "data": {
      "text/plain": [
       "0.9100494021727936"
      ]
     },
     "execution_count": 59,
     "metadata": {},
     "output_type": "execute_result"
    }
   ],
   "source": [
    "cos_sim(posi, np.array([gelu(d) for d in tensor.flatten()]))"
   ]
  },
  {
   "cell_type": "code",
   "execution_count": 44,
   "id": "1dd2908d-6d63-416f-afbf-cd057246e26b",
   "metadata": {},
   "outputs": [
    {
     "data": {
      "text/plain": [
       "[-0.0,\n",
       " -0.0,\n",
       " -2.3314683517128287e-15,\n",
       " -0.05454876554466734,\n",
       " -0.06474047315407029,\n",
       " -0.07589410444884379,\n",
       " 0.2621611694273562,\n",
       " 0.34571400982514394,\n",
       " 0.43541519923081473,\n",
       " -0.16942986529488321,\n",
       " -0.1695683085635519,\n",
       " -0.16577151129027945]"
      ]
     },
     "execution_count": 44,
     "metadata": {},
     "output_type": "execute_result"
    }
   ],
   "source": [
    "posi"
   ]
  },
  {
   "cell_type": "code",
   "execution_count": 25,
   "id": "a86c6d9e-e698-4c2a-8e5e-f0d5a9b616dd",
   "metadata": {},
   "outputs": [],
   "source": []
  },
  {
   "cell_type": "code",
   "execution_count": 26,
   "id": "acfabf55-5167-48d2-88cb-eafc0b75b0d9",
   "metadata": {},
   "outputs": [],
   "source": []
  },
  {
   "cell_type": "code",
   "execution_count": 27,
   "id": "3cd25f7b-f8e1-44b7-8f7f-010847ac9ed8",
   "metadata": {},
   "outputs": [
    {
     "data": {
      "text/plain": [
       "array([-0.00784314, -0.00784314, -0.00784314, -0.09411765, -0.09411765,\n",
       "       -0.09411765,  0.20784314,  0.29411765,  0.38039216, -0.18039216,\n",
       "       -0.18039216, -0.18039216])"
      ]
     },
     "execution_count": 27,
     "metadata": {},
     "output_type": "execute_result"
    }
   ],
   "source": []
  },
  {
   "cell_type": "code",
   "execution_count": 10,
   "id": "ef086304-1545-486f-9093-5f226d561a47",
   "metadata": {},
   "outputs": [
    {
     "data": {
      "text/plain": [
       "0.0"
      ]
     },
     "execution_count": 10,
     "metadata": {},
     "output_type": "execute_result"
    }
   ],
   "source": [
    "gelu(0)"
   ]
  },
  {
   "cell_type": "code",
   "execution_count": 14,
   "id": "bfa0216a-2023-466f-845f-4b2da4e31887",
   "metadata": {},
   "outputs": [
    {
     "data": {
      "text/plain": [
       "10.0"
      ]
     },
     "execution_count": 14,
     "metadata": {},
     "output_type": "execute_result"
    }
   ],
   "source": [
    "gelu(10)"
   ]
  },
  {
   "cell_type": "code",
   "execution_count": 13,
   "id": "c6452a78-f1a9-4b88-a6dd-244e3e94d82a",
   "metadata": {},
   "outputs": [
    {
     "data": {
      "text/plain": [
       "2550.0"
      ]
     },
     "execution_count": 13,
     "metadata": {},
     "output_type": "execute_result"
    }
   ],
   "source": [
    "gelu(2550)"
   ]
  },
  {
   "cell_type": "code",
   "execution_count": 47,
   "id": "7cfb09e2-9d1c-4c08-8979-183e5890ba7a",
   "metadata": {},
   "outputs": [
    {
     "data": {
      "text/plain": [
       "8.0"
      ]
     },
     "execution_count": 47,
     "metadata": {},
     "output_type": "execute_result"
    }
   ],
   "source": [
    "gelu(1*8)"
   ]
  },
  {
   "cell_type": "code",
   "execution_count": 46,
   "id": "2f892d49-c6f7-4eac-b4bd-8157cb53698e",
   "metadata": {},
   "outputs": [
    {
     "data": {
      "text/plain": [
       "6.729535924866214"
      ]
     },
     "execution_count": 46,
     "metadata": {},
     "output_type": "execute_result"
    }
   ],
   "source": [
    "gelu(1) * gelu(8)"
   ]
  },
  {
   "cell_type": "code",
   "execution_count": 36,
   "id": "9b36957a-c9ce-48a8-82ee-ce27eb74da4a",
   "metadata": {},
   "outputs": [
    {
     "data": {
      "text/plain": [
       "array([[0.0140028 , 0.0280056 , 0.0420084 ],\n",
       "       [0.0560112 , 0.070014  , 0.08401681],\n",
       "       [0.09801961, 0.11202241, 0.12602521]])"
      ]
     },
     "execution_count": 36,
     "metadata": {},
     "output_type": "execute_result"
    }
   ],
   "source": [
    "int8_tensor"
   ]
  },
  {
   "cell_type": "code",
   "execution_count": 24,
   "id": "a8af861a-16e8-43d2-8ec2-e8d00747c66d",
   "metadata": {},
   "outputs": [],
   "source": [
    "tensor = np.array([[0.1,0.2,0.3],[0.4,0.5,0.6],[0.7,0.8,0.9]])\n",
    "result = 0.5 * tensor * (1 + np.tanh(np.sqrt(2/np.pi) * (tensor + 0.044715 * np.power(tensor, 3))))"
   ]
  },
  {
   "cell_type": "code",
   "execution_count": 25,
   "id": "20110250-c31b-4f6f-a85d-0eeae5f69454",
   "metadata": {},
   "outputs": [
    {
     "data": {
      "text/plain": [
       "array([[0.05398275, 0.11585143, 0.18537092],\n",
       "       [0.26216117, 0.34571401, 0.4354152 ],\n",
       "       [0.53057013, 0.63043169, 0.73422849]])"
      ]
     },
     "execution_count": 25,
     "metadata": {},
     "output_type": "execute_result"
    }
   ],
   "source": [
    "result"
   ]
  }
 ],
 "metadata": {
  "kernelspec": {
   "display_name": "Python 3 (ipykernel)",
   "language": "python",
   "name": "python3"
  },
  "language_info": {
   "codemirror_mode": {
    "name": "ipython",
    "version": 3
   },
   "file_extension": ".py",
   "mimetype": "text/x-python",
   "name": "python",
   "nbconvert_exporter": "python",
   "pygments_lexer": "ipython3",
   "version": "3.9.2"
  }
 },
 "nbformat": 4,
 "nbformat_minor": 5
}
