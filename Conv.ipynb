{
 "cells": [
  {
   "cell_type": "code",
   "execution_count": 1,
   "id": "be9d0e1c-8e47-4bdb-b63f-ba188e168b57",
   "metadata": {},
   "outputs": [
    {
     "name": "stderr",
     "output_type": "stream",
     "text": [
      "/home/chuyi/.local/lib/python3.9/site-packages/tqdm/auto.py:21: TqdmWarning: IProgress not found. Please update jupyter and ipywidgets. See https://ipywidgets.readthedocs.io/en/stable/user_install.html\n",
      "  from .autonotebook import tqdm as notebook_tqdm\n"
     ]
    }
   ],
   "source": [
    "import torch \n",
    "import torch.nn.functional as F\n",
    "\n",
    "class Net(torch.nn.Module):\n",
    "    def __init__(self):\n",
    "        super(Net, self).__init__()  # 第一句话，调用父类的构造函数\n",
    "        self.conv = torch.nn.Conv2d(3, 64, kernel_size=4, stride=2)\n",
    " \n",
    "    def forward(self, x):\n",
    "        x = F.pad(x, (0,0,2,2), 'constant', 0)\n",
    "        x = self.conv(x)\n",
    "        return x\n",
    "\n",
    "def compute_flops(inputs, weight, out_height, in_width, stride):\n",
    "    batch, in_channel, height, width = inputs.shape\n",
    "    out_channel, _, kernel_size, _ = weight.shape\n",
    "    \n",
    "    params = in_channel * out_channel * kernel_size * kernel_size + out_channel\n",
    "    return params * batch * ((height - kernel_size)/ stride + 1) * ((width - kernel_size)/ stride + 1)\n",
    "\n",
    "input = torch.randn(4,3,224,224)\n",
    "\n",
    "model = Net()\n",
    "res = model(input)\n",
    "print(res.shape)\n",
    "\n",
    "res = F.pad(input, (0,0,2,2), 'constant', 0)\n",
    "print(compute_flops(res, torch.randn(64,3,4,4), res.shape[2], res.shape[3], 2))"
   ]
  },
  {
   "cell_type": "code",
   "execution_count": 58,
   "id": "aa559f07-cdb0-4032-bc2c-3ad76c692fb2",
   "metadata": {},
   "outputs": [],
   "source": []
  },
  {
   "cell_type": "code",
   "execution_count": 59,
   "id": "d865380b-9762-4b06-8b28-824be50f0738",
   "metadata": {},
   "outputs": [
    {
     "name": "stdout",
     "output_type": "stream",
     "text": [
      "torch.Size([4, 64, 113, 111])\n",
      "157339392.0\n"
     ]
    }
   ],
   "source": []
  },
  {
   "cell_type": "code",
   "execution_count": 70,
   "id": "41c140a3-d21b-4453-8d19-7e8c9a312ec8",
   "metadata": {},
   "outputs": [
    {
     "name": "stdout",
     "output_type": "stream",
     "text": [
      "Requirement already satisfied: pthflops in /home/chuyi/.local/lib/python3.9/site-packages (0.4.2)\n",
      "Requirement already satisfied: torch in /home/chuyi/.local/lib/python3.9/site-packages (from pthflops) (1.13.0+cpu)\n",
      "Requirement already satisfied: typing-extensions in /home/chuyi/.local/lib/python3.9/site-packages (from torch->pthflops) (4.6.3)\n",
      "OperationOPS         \n",
      "-----  ----------  \n",
      "conv   157339392   \n",
      "----   ---------   \n",
      "Input size: (4, 3, 224, 224)\n",
      "157,339,392 FLOPs or approx. 0.16 GFLOPs\n"
     ]
    },
    {
     "data": {
      "text/plain": [
       "(157339392, [['conv', 157339392]])"
      ]
     },
     "execution_count": 70,
     "metadata": {},
     "output_type": "execute_result"
    }
   ],
   "source": [
    "!pip install pthflops\n",
    "from pthflops import count_ops\n",
    "count_ops(model, torch.rand(4,3,224,224))"
   ]
  }
 ],
 "metadata": {
  "kernelspec": {
   "display_name": "Python 3 (ipykernel)",
   "language": "python",
   "name": "python3"
  },
  "language_info": {
   "codemirror_mode": {
    "name": "ipython",
    "version": 3
   },
   "file_extension": ".py",
   "mimetype": "text/x-python",
   "name": "python",
   "nbconvert_exporter": "python",
   "pygments_lexer": "ipython3",
   "version": "3.9.2"
  }
 },
 "nbformat": 4,
 "nbformat_minor": 5
}
