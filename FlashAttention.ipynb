{
 "cells": [
  {
   "cell_type": "code",
   "execution_count": 1,
   "id": "7bb8f233-23a4-4fff-8827-03656291dc3e",
   "metadata": {},
   "outputs": [
    {
     "name": "stdout",
     "output_type": "stream",
     "text": [
      "> \u001b[0;32m/tmp/ipykernel_1708143/3549042524.py\u001b[0m(32)\u001b[0;36msoftmax_then_matmul\u001b[0;34m()\u001b[0m\n",
      "\u001b[0;32m     30 \u001b[0;31m  \u001b[0mrow_sum\u001b[0m \u001b[0;34m=\u001b[0m \u001b[0mnp\u001b[0m\u001b[0;34m.\u001b[0m\u001b[0msum\u001b[0m\u001b[0;34m(\u001b[0m\u001b[0mnp\u001b[0m\u001b[0;34m.\u001b[0m\u001b[0mexp\u001b[0m\u001b[0;34m(\u001b[0m\u001b[0mS\u001b[0m \u001b[0;34m-\u001b[0m \u001b[0mrow_max\u001b[0m\u001b[0;34m)\u001b[0m\u001b[0;34m,\u001b[0m \u001b[0;34m-\u001b[0m\u001b[0;36m1\u001b[0m\u001b[0;34m)\u001b[0m\u001b[0;34m[\u001b[0m\u001b[0;34m:\u001b[0m\u001b[0;34m,\u001b[0m\u001b[0;34m:\u001b[0m\u001b[0;34m,\u001b[0m\u001b[0;32mNone\u001b[0m\u001b[0;34m]\u001b[0m\u001b[0;34m\u001b[0m\u001b[0;34m\u001b[0m\u001b[0m\n",
      "\u001b[0m\u001b[0;32m     31 \u001b[0;31m  \u001b[0;32mimport\u001b[0m \u001b[0mpdb\u001b[0m\u001b[0;34m;\u001b[0m\u001b[0mpdb\u001b[0m\u001b[0;34m.\u001b[0m\u001b[0mset_trace\u001b[0m\u001b[0;34m(\u001b[0m\u001b[0;34m)\u001b[0m\u001b[0;34m\u001b[0m\u001b[0;34m\u001b[0m\u001b[0m\n",
      "\u001b[0m\u001b[0;32m---> 32 \u001b[0;31m  \u001b[0msoftmax_s\u001b[0m \u001b[0;34m=\u001b[0m \u001b[0mnp\u001b[0m\u001b[0;34m.\u001b[0m\u001b[0mexp\u001b[0m\u001b[0;34m(\u001b[0m\u001b[0mS\u001b[0m\u001b[0;34m-\u001b[0m\u001b[0mrow_max\u001b[0m\u001b[0;34m)\u001b[0m \u001b[0;34m/\u001b[0m \u001b[0mrow_sum\u001b[0m\u001b[0;34m\u001b[0m\u001b[0;34m\u001b[0m\u001b[0m\n",
      "\u001b[0m\u001b[0;32m     33 \u001b[0;31m  \u001b[0;32mreturn\u001b[0m \u001b[0mnp\u001b[0m\u001b[0;34m.\u001b[0m\u001b[0mmatmul\u001b[0m\u001b[0;34m(\u001b[0m\u001b[0msoftmax_s\u001b[0m\u001b[0;34m,\u001b[0m \u001b[0mV\u001b[0m\u001b[0;34m)\u001b[0m\u001b[0;34m\u001b[0m\u001b[0;34m\u001b[0m\u001b[0m\n",
      "\u001b[0m\u001b[0;32m     34 \u001b[0;31m\u001b[0;34m\u001b[0m\u001b[0m\n",
      "\u001b[0m\n"
     ]
    },
    {
     "name": "stdin",
     "output_type": "stream",
     "text": [
      "ipdb>  q\n"
     ]
    }
   ],
   "source": [
    "import numpy as np\n",
    "\n",
    "Batch = 12\n",
    "N = 197\n",
    "d = 64\n",
    "\n",
    "S = np.random.random(size=(Batch, N, N))\n",
    "V = np.random.random(size=(Batch, N, d))\n",
    "\n",
    "def increasing_softmax_then_matmul(S, V):\n",
    "  acc = np.zeros(shape=(Batch, N, d))\n",
    "  pre_max = -10000\n",
    "  pre_sum = 0\n",
    "  for i  in range(N):\n",
    "    s_i = S[:,i:i+1]\n",
    "    # import pdb;pdb.set_trace()\n",
    "    cur_max = max(pre_max, np.max(s_i))\n",
    "    pre_sum *= np.sum(np.exp(pre_max - cur_max))\n",
    "    cur_sum = pre_sum + np.sum(np.exp(s_i - cur_max))\n",
    "    score = np.exp(s_i - cur_max) / cur_sum\n",
    "    scale = pre_sum / cur_sum\n",
    "    acc *= scale\n",
    "    acc += (score.transpose(0,2,1) @ V[:,i:i+1,:])\n",
    "    pre_max = cur_max\n",
    "    pre_sum = cur_sum\n",
    "  return acc\n",
    "    \n",
    "def softmax_then_matmul(S, V):\n",
    "  row_max = np.amax(S, -1)[:,:,None]\n",
    "  row_sum = np.sum(np.exp(S - row_max), -1)[:,:,None]\n",
    "  import pdb;pdb.set_trace()\n",
    "  softmax_s = np.exp(S-row_max) / row_sum\n",
    "  return np.matmul(softmax_s, V)\n",
    "  \n",
    "expected = softmax_then_matmul(S, V)\n",
    "actual = increasing_softmax_then_matmul(S, V)\n",
    "np.allclose(expected, actual)"
   ]
  },
  {
   "cell_type": "code",
   "execution_count": 3,
   "id": "40a07d01-6e7d-4828-b932-494a5a65b455",
   "metadata": {},
   "outputs": [],
   "source": [
    "import torch\n",
    "import torch.nn.functional as F\n",
    "\n",
    "x = torch.randn((12,197,197))"
   ]
  },
  {
   "cell_type": "code",
   "execution_count": null,
   "id": "8dc98598-433a-4505-a944-71837d3c2b50",
   "metadata": {},
   "outputs": [],
   "source": []
  },
  {
   "cell_type": "code",
   "execution_count": 2,
   "id": "9798ed20-63ce-48b4-b57e-f17fed90a6a7",
   "metadata": {},
   "outputs": [
    {
     "name": "stdout",
     "output_type": "stream",
     "text": [
      "CPU times: user 70 µs, sys: 120 µs, total: 190 µs\n",
      "Wall time: 150 µs\n"
     ]
    },
    {
     "data": {
      "text/plain": [
       "array([[0.69450367, 0.64144421]])"
      ]
     },
     "execution_count": 2,
     "metadata": {},
     "output_type": "execute_result"
    }
   ],
   "source": [
    "%time softmax_then_matmul(S, V)"
   ]
  },
  {
   "cell_type": "code",
   "execution_count": 3,
   "id": "b590266c-7525-4d6b-9472-884311d6a9a8",
   "metadata": {},
   "outputs": [
    {
     "name": "stdout",
     "output_type": "stream",
     "text": [
      "CPU times: user 86 µs, sys: 146 µs, total: 232 µs\n",
      "Wall time: 241 µs\n"
     ]
    },
    {
     "data": {
      "text/plain": [
       "array([[0.69450367, 0.64144421]])"
      ]
     },
     "execution_count": 3,
     "metadata": {},
     "output_type": "execute_result"
    }
   ],
   "source": [
    "%time increasing_softmax_then_matmul(S, V)"
   ]
  }
 ],
 "metadata": {
  "kernelspec": {
   "display_name": "Python 3 (ipykernel)",
   "language": "python",
   "name": "python3"
  },
  "language_info": {
   "codemirror_mode": {
    "name": "ipython",
    "version": 3
   },
   "file_extension": ".py",
   "mimetype": "text/x-python",
   "name": "python",
   "nbconvert_exporter": "python",
   "pygments_lexer": "ipython3",
   "version": "3.9.2"
  }
 },
 "nbformat": 4,
 "nbformat_minor": 5
}
