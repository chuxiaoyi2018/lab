{
 "cells": [
  {
   "cell_type": "code",
   "execution_count": 182,
   "id": "e153acc6-da85-4a1d-8107-121b8e6af455",
   "metadata": {},
   "outputs": [
    {
     "data": {
      "text/plain": [
       "'0b1000011001100100010000000000000'"
      ]
     },
     "execution_count": 182,
     "metadata": {},
     "output_type": "execute_result"
    }
   ],
   "source": [
    "import ctypes\n",
    "\n",
    "def fp32_string(data):\n",
    "    return bin(ctypes.c_uint32.from_buffer(ctypes.c_float(data)).value)\n",
    "\n",
    "fp32_string(178.125)"
   ]
  },
  {
   "cell_type": "markdown",
   "id": "86e1b11f-8793-4927-893f-55ebadc01b42",
   "metadata": {},
   "source": [
    "### fp32二进制字符串转换为十进制数\n",
    "* 32 bit string -> (-1) ** sign * (1 + fraction) ** (exponent - bias) -> binary value -> decimal value\n",
    "* 为什么要有偏移量bias？阶码是无符号整数，但是阶数是可以为负数的，加上偏移量是为了把负的阶数用无符号数（阶码）表示。观山听白\r\n",
    "阶码是移码，可以省去一位符号\n",
    "* ref: https://blog.csdn.net/tercel_zhang/article/details/52537726\n",
    "* ref: https://zhuanlan.zhihu.com/p/144697348位以表示负数"
   ]
  },
  {
   "cell_type": "code",
   "execution_count": 183,
   "id": "d9e622db-35d6-4e95-846e-0d75db85131b",
   "metadata": {},
   "outputs": [
    {
     "name": "stdout",
     "output_type": "stream",
     "text": [
      "134\n"
     ]
    },
    {
     "data": {
      "text/plain": [
       "178.125"
      ]
     },
     "execution_count": 183,
     "metadata": {},
     "output_type": "execute_result"
    }
   ],
   "source": [
    "def bin_to_dec(b):\n",
    "    p = b.index('.')\n",
    "    return int(b[:p],2)+int(b[p+1:],2)/2**len(b[p+1:])\n",
    "\n",
    "def str_to_bin(string, exponet_bit, fraction_bit):\n",
    "    sign = int(string[0])\n",
    "    fraction = int(string[-fraction_bit:],10) / 10**fraction_bit\n",
    "    exponent = int(string[1:exponet_bit+1],2)\n",
    "    bias = 127\n",
    "    print(exponent)\n",
    "    value = (-1) ** sign * (1 +  fraction) * 10 ** (exponent - bias)\n",
    "    return value\n",
    "    \n",
    "exponent_bit = 8\n",
    "fraction_bit = 23\n",
    "\n",
    "\n",
    "string = \"01000011001100100010000000000000\"\n",
    "value = str_to_bin(string, exponent_bit, fraction_bit)\n",
    "bin_to_dec(str(value))"
   ]
  },
  {
   "cell_type": "markdown",
   "id": "6d6da2bf-6908-4a11-bfad-e3565151adc4",
   "metadata": {},
   "source": [
    "### fp32二进制字符串先截断为bf16二进制字符串，再转换为十进制数"
   ]
  },
  {
   "cell_type": "code",
   "execution_count": 186,
   "id": "7c47bb86-5606-4443-818a-a5c1e4e86e5a",
   "metadata": {},
   "outputs": [
    {
     "data": {
      "text/plain": [
       "178.0"
      ]
     },
     "execution_count": 186,
     "metadata": {},
     "output_type": "execute_result"
    }
   ],
   "source": [
    "def bin_to_dec(b):\n",
    "    p = b.index('.')\n",
    "    return int(b[:p],2)+int(b[p+1:],2)/2**len(b[p+1:])\n",
    "\n",
    "def str_to_bin(string, exponet_bit, fraction_bit):\n",
    "    sign = int(string[0])\n",
    "    fraction = int(string[-fraction_bit:],10) / 10**fraction_bit\n",
    "    exponent = int(string[1:exponet_bit+1],2)\n",
    "    bias = 127\n",
    "    value = (-1) ** sign * (1 +  fraction) * 10 ** (exponent - bias)\n",
    "    return value\n",
    "\n",
    "def half_bf16(string):\n",
    "    return string[:16]\n",
    "\n",
    "exponent_bit = 8\n",
    "fraction_bit = 7\n",
    "\n",
    "\n",
    "string = \"01000011001100100010000000000000\"\n",
    "half_string = half_bf16(string)\n",
    "value = str_to_bin(half_string, exponent_bit, fraction_bit)\n",
    "bin_to_dec(str(value))"
   ]
  },
  {
   "cell_type": "markdown",
   "id": "2182c428-b4bd-4612-a9cc-b49e2a1268b7",
   "metadata": {},
   "source": [
    "### fp32二进制字符串先截断为fp16二进制字符串，再转换为十进制数\n",
    "* exponent_bit = 8 bias = 127 (fp32)\n",
    "* exponent_bit = 7 bias = 63\n",
    "* exponent_bit = 6 bias = 31\n",
    "* exponent_bit = 5 bias = 15 (fp16)"
   ]
  },
  {
   "cell_type": "code",
   "execution_count": 187,
   "id": "3b241f1b-0bfd-4e83-b46c-146f0e06de5d",
   "metadata": {},
   "outputs": [
    {
     "data": {
      "text/plain": [
       "178.125"
      ]
     },
     "execution_count": 187,
     "metadata": {},
     "output_type": "execute_result"
    }
   ],
   "source": [
    "def bin_to_dec(b):\n",
    "    p = b.index('.')\n",
    "    return int(b[:p],2)+int(b[p+1:],2)/2**len(b[p+1:])\n",
    "\n",
    "def str_to_bin(string, exponet_bit, fraction_bit):\n",
    "    sign = int(string[0])\n",
    "    fraction = int(string[-fraction_bit:],10) / 10**fraction_bit\n",
    "    exponent = int(string[1:exponet_bit+1],2)\n",
    "    bias = 15\n",
    "    value = (-1) ** sign * (1 +  fraction) * 10 ** (exponent - bias)\n",
    "    return value\n",
    "\n",
    "def half_fp16(string):\n",
    "    return string[0] + bin(int(string[1:9], 2) - 112)[2:].zfill(5) + string[9:9+10]\n",
    "\n",
    "exponent_bit = 5\n",
    "fraction_bit = 10\n",
    "\n",
    "\n",
    "string = \"01000011001100100010000000000000\"\n",
    "half_string = half_fp16(string)\n",
    "value = str_to_bin(half_string, exponent_bit, fraction_bit)\n",
    "bin_to_dec(str(value))"
   ]
  },
  {
   "cell_type": "markdown",
   "id": "8a66284d-a17a-48ac-add2-7ab506487bfb",
   "metadata": {},
   "source": [
    "## TODO\n",
    "* 完成fp32 fp16 bf16的加减乘除\n",
    "* 使用位运算完成fp32 fp16 bf16的相互转换（c++？）\n",
    "* https://blog.csdn.net/q2519008/article/details/129264884\n",
    "* https://blog.csdn.net/ysaeeiderup/article/details/124104042\n",
    "* https://blog.csdn.net/weixin_45378258/article/details/118964215\n",
    "* https://zhuanlan.zhihu.com/p/345631081"
   ]
  }
 ],
 "metadata": {
  "kernelspec": {
   "display_name": "Python 3 (ipykernel)",
   "language": "python",
   "name": "python3"
  },
  "language_info": {
   "codemirror_mode": {
    "name": "ipython",
    "version": 3
   },
   "file_extension": ".py",
   "mimetype": "text/x-python",
   "name": "python",
   "nbconvert_exporter": "python",
   "pygments_lexer": "ipython3",
   "version": "3.9.2"
  }
 },
 "nbformat": 4,
 "nbformat_minor": 5
}
