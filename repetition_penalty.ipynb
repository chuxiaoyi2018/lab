{
 "cells": [
  {
   "cell_type": "code",
   "execution_count": 52,
   "id": "ff34a311-67d9-4e51-948c-196026ea361a",
   "metadata": {},
   "outputs": [],
   "source": [
    "import torch\n",
    "import numpy as np\n",
    "import torch.nn.functional as F"
   ]
  },
  {
   "cell_type": "code",
   "execution_count": 53,
   "id": "8d3cde0d-4585-42ed-ad6b-7682fc721081",
   "metadata": {},
   "outputs": [],
   "source": [
    "input_ids = torch.LongTensor([[1,2,3,4,5,5,5]])\n",
    "scores = torch.randn(1,7)"
   ]
  },
  {
   "cell_type": "code",
   "execution_count": 54,
   "id": "c2c841ec-5151-46ca-bc67-e1040ee18155",
   "metadata": {},
   "outputs": [
    {
     "data": {
      "text/plain": [
       "tensor([[-0.1534,  0.8089,  0.8125, -0.0808, -0.7130, -1.2821,  0.4892]])"
      ]
     },
     "execution_count": 54,
     "metadata": {},
     "output_type": "execute_result"
    }
   ],
   "source": [
    "scores"
   ]
  },
  {
   "cell_type": "code",
   "execution_count": 55,
   "id": "8876b677-72d2-4ad2-bf63-933073cbc081",
   "metadata": {},
   "outputs": [
    {
     "data": {
      "text/plain": [
       "tensor([[0.0988, 0.2588, 0.2597, 0.1063, 0.0565, 0.0320, 0.1879]])"
      ]
     },
     "execution_count": 55,
     "metadata": {},
     "output_type": "execute_result"
    }
   ],
   "source": [
    "F.softmax(scores, dim=-1)"
   ]
  },
  {
   "cell_type": "code",
   "execution_count": 56,
   "id": "f39cc2b2-538b-4195-9819-860c9662feb4",
   "metadata": {},
   "outputs": [
    {
     "name": "stderr",
     "output_type": "stream",
     "text": [
      "/tmp/ipykernel_3133427/3932079670.py:8: UserWarning: Implicit dimension choice for softmax has been deprecated. Change the call to include dim=X as an argument.\n",
      "  F.softmax(scores.scatter_(1, input_ids, score))\n"
     ]
    },
    {
     "data": {
      "text/plain": [
       "tensor([[0.1096, 0.2440, 0.2447, 0.1154, 0.0524, 0.0257, 0.2083]])"
      ]
     },
     "execution_count": 56,
     "metadata": {},
     "output_type": "execute_result"
    }
   ],
   "source": [
    "penalty = 1.25\n",
    "\n",
    "score = torch.gather(scores, 1, input_ids)\n",
    "print(score)\n",
    "\n",
    "# if score < 0 then repetition penalty has to be multiplied to reduce the previous token probability\n",
    "score = torch.where(score < 0, score * penalty, score / penalty)\n",
    "print(score)\n",
    "\n",
    "F.softmax(scores.scatter_(1, input_ids, score))"
   ]
  },
  {
   "cell_type": "code",
   "execution_count": 58,
   "id": "49ecb730-b3e4-4ee9-8fbd-64ca831497c4",
   "metadata": {},
   "outputs": [
    {
     "data": {
      "text/plain": [
       "tensor([[ 0.6472,  0.6500, -0.1010, -0.8913, -1.6026, -1.6026, -1.6026]])"
      ]
     },
     "execution_count": 58,
     "metadata": {},
     "output_type": "execute_result"
    }
   ],
   "source": [
    "score"
   ]
  },
  {
   "cell_type": "code",
   "execution_count": 57,
   "id": "40841311-807f-45b7-bcbb-6273e23b7156",
   "metadata": {},
   "outputs": [
    {
     "data": {
      "text/plain": [
       "tensor([[ 0.6472,  0.6500, -0.1010, -0.8913, -1.6026, -1.6026, -1.6026]])"
      ]
     },
     "execution_count": 57,
     "metadata": {},
     "output_type": "execute_result"
    }
   ],
   "source": [
    "score"
   ]
  },
  {
   "cell_type": "code",
   "execution_count": null,
   "id": "fc69e69a-b270-4895-b04d-f45f394b1308",
   "metadata": {},
   "outputs": [],
   "source": []
  }
 ],
 "metadata": {
  "kernelspec": {
   "display_name": "Python 3 (ipykernel)",
   "language": "python",
   "name": "python3"
  },
  "language_info": {
   "codemirror_mode": {
    "name": "ipython",
    "version": 3
   },
   "file_extension": ".py",
   "mimetype": "text/x-python",
   "name": "python",
   "nbconvert_exporter": "python",
   "pygments_lexer": "ipython3",
   "version": "3.9.2"
  }
 },
 "nbformat": 4,
 "nbformat_minor": 5
}
